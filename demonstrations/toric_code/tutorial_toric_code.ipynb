{
 "cells": [
  {
   "cell_type": "markdown",
   "id": "0085102f-f3a9-4e9e-8291-3ea142d00876",
   "metadata": {
    "tags": []
   },
   "source": [
    "# Braiding Toric Code Excitations\n",
    "\n",
    "The toric code model is a treasure trove of interesting physics and mathematics. It is the quintessential example of a <b>surface code</b> and describes a key category of error correction models. But why is the model so useful for error correction? \n",
    "\n",
    "A deeper answer to that question touches on some amazingly rich areas of mathematics and condensed matter physics. In order to protect from local fluctuations, we turn to a dependence on non-local properties. If we want to study non-local properties, we need to start using topology, the mathematical study of properties that are invariant under continuous deformation. For example, a coffee cup is equivalent to a donut, or a cow really is spherical!\n",
    "\n",
    "<a title=\"Keenan Crane; GIF by username:Nepluno, CC BY-SA 4.0 &lt;https://creativecommons.org/licenses/by-sa/4.0&gt;, via Wikimedia Commons\" href=\"https://commons.wikimedia.org/wiki/File:Spot_the_cow.gif\"><img width=200em alt=\"Spot the cow\" src=\"https://upload.wikimedia.org/wikipedia/commons/2/24/Spot_the_cow.gif\"></a>\n",
    "Keenan Crane; GIF by username:Nepluno, CC BY-SA 4.0 <https://creativecommons.org/licenses/by-sa/4.0>, via Wikimedia Commons\n",
    "\n",
    "At least a cow without a digestive track.\n",
    "\n",
    "When we zoom in really close, both a sphere and a torus look the same. Only when you zoom out and consider the whole object can you see the differences.\n",
    "\n",
    "One subset of topology is called [Homotopy](https://en.wikipedia.org/wiki/Homotopy). Two paths are <b>homotopy equivalent</b> if they can be continuously deformed into each other. For the next picture, assume the red \"X\" is some kind of defect in space, like a tear in a sheet or some kind of object.  The two blue paths are equivalent to each other because you can smoothly move one into the other.  You cannot move the blue path into the green path without going through the defect, so they are <i>not</i> equivalent to each other.\n",
    "\n",
    "<img src=\"./homotopy.png\" width=200em/>\n",
    "\n",
    "What does all this mathematics have to do with actual physics? The toric code is considered a <b>topological state of matter</b>.  These states of matter often share properties like:\n",
    "\n",
    "* long range entanglement entropy\n",
    "* ground state degeneracy\n",
    "* a global influence of edges\n",
    "* non-trivial excitations\n",
    "\n",
    "An excitation or excited state is an eigenstate that is not the ground state.\n",
    "\n",
    "In this demo, we will be looking at the degenerate ground state and the excitations of the toric code model. The toric code was initialized proposed in \"Fault-tolerant quantum computation by anyons\" by Kitaev, and this demo was inspired by \"Realizing topologically ordered states on a quantum processor\" by K. J. Satzinger et al. For further reading, I recommend \"Quantum Spin Liquids\" by Lucile Savary and Leon Balents. (add links and proper citations and stuff)\n",
    "\n",
    "To describe these excitations, I will introduce a second term: <b>quasiparticle</b>. Quasiparticles allow physicists to describe complex systems as interacting particles in a vacuum.  Common examples of quasiparticles include electrons and holes in semiconductors, phonons, and magnons.\n",
    "\n",
    "Imagine trying to describe the traffic on a road. We could either:\n",
    "\n",
    "* explicitly enumerate the location of each vehicle\n",
    "* describe the locations and severities of traffic jam\n",
    "\n",
    "The first option provides the complete information about the system but is much more difficult to work with. For most purposes, we can just work with information about how the traffic deviates from a baseline. In semiconductors, we don't write out the wavefunction for every single electron. We instead use electrons and holes. Neither quasiparticle electrons or holes are fundamental particles like an electron or positron in a vacuum. Instead, they are useful descriptions of how the wavefunction differs from its ground state.\n",
    "\n",
    "While the electrons and holes of a metal behave just like electrons and positrons in a vacuum, some condensed matter systems contain quasiparticles that cannot or do not exist as fundamental particles.\n",
    "\n",
    "When one indistinguishable fermion of spin 1/2 orbits another fermion of the same type, the combined wavefunction picks up a factor of negative one. When fermions of different types orbit each other, the state is unchanged. For example, if an electron goes around a proton and comes back to the same spot, the wavefunction is unchanged.  If a boson orbits around a different type of boson, again the wavefunction is unchanged.\n",
    "\n",
    "What if a particle went around a different type of particle and everything picked up a phase? Would it be a boson or a fermion?\n",
    "\n",
    "It would be something else entirely: an <b>anyon</b>. An anyon is anything that doesn't cleanly fall into the boson+fermion categorization of particles.  \n",
    "\n",
    "While the toric code itself is just an extremely useful mathematical model, anyons actually exist in real materials. For example, the fractional quantum Hall systems has anyonic particles with spin $1/q$ for different integers $q$."
   ]
  },
  {
   "cell_type": "markdown",
   "id": "83f3bd6e-1f11-4929-85dc-7afe0b6869a2",
   "metadata": {
    "tags": []
   },
   "source": [
    "What is the source of all this interesting physics? The Hamiltonian is:\n",
    "\n",
    "$$\n",
    "\\mathcal{H} = -\\sum_s S_s - \\sum_p P_p\n",
    "$$\n",
    "\n",
    "$$\n",
    "S_s = \\prod_{i \\in s} Z_i \\quad P_p = \\prod_{j \\in p} X_j\n",
    "$$\n",
    "\n",
    "In the literature, the $S_s$ terms are called the \"star\" operators, and the $P_p$ terms are called the \"plaquette\" operators. In the most common formulation of the model, sites live on the edges of a square lattice. The \"plaquette\" operators are all sites in a square, and the \"star\" operators are all sites that touch a vertex.\n",
    "\n",
    "The model can also be viewed as a checkerboard of alternating square types. I find this to be the easier description. Adjacent squares alternate between the two types of operators.  Since the operators on this checkerboard no longer look like stars and plaquettes, we will call them the \"Z Group\" and \"X Group\" operators in this tutorial.\n",
    "\n",
    "<img src=\"./stars_plaquettes2.png\" width=400em/>"
   ]
  },
  {
   "cell_type": "markdown",
   "id": "228dd298-f72d-4b5f-a5fe-2880bc71f3af",
   "metadata": {},
   "source": [
    "We will be embedding the lattice on a torus via periodic boundary conditions. Periodic boundary conditions basically \"glue\" the bottom of the lattice to the top of the lattice and the left to the right.\n",
    "\n",
    "<a title=\"Lucas Vieira, Public domain, via Wikimedia Commons\" href=\"https://commons.wikimedia.org/wiki/File:Torus_from_rectangle.gif\"><img width=\"256\" alt=\"Torus from rectangle\" src=\"https://upload.wikimedia.org/wikipedia/commons/6/60/Torus_from_rectangle.gif\"></a>\n",
    "\n",
    "This matching is done with modular arithemetic.  Any site at `(x,y)` is the same as a site at `(x+width, y+height)`."
   ]
  },
  {
   "cell_type": "code",
   "execution_count": 1,
   "id": "480e26d9-6a0b-4e06-9618-145eaa019aef",
   "metadata": {},
   "outputs": [],
   "source": [
    "import pennylane as qml\n",
    "import matplotlib.pyplot as plt\n",
    "from matplotlib.patches import Polygon, Patch\n",
    "from itertools import product\n",
    "\n",
    "import numpy as np\n",
    "np.set_printoptions(suppress=True)"
   ]
  },
  {
   "cell_type": "markdown",
   "id": "560e66d4-c98f-463c-9301-ebd663d9bdf4",
   "metadata": {},
   "source": [
    "On to some practical coding!\n",
    "\n",
    "We will be storing our lattice sites as a tuple of x and y coordinates.  We will be using this tuples as wires labels, but we will have to be careful so that PennyLane does not interpret the site as two wire labels, but instead a single wire label. Whenever passing a single site, be careful to wrap it within a object of length 1, like `[s]` instead of passing `(x,y)` as a wire label by itself."
   ]
  },
  {
   "cell_type": "code",
   "execution_count": 2,
   "id": "217e2303-fe38-42c9-86bb-e5ab70994700",
   "metadata": {},
   "outputs": [],
   "source": [
    "height = 4\n",
    "width = 6\n",
    "\n",
    "all_sites = [(i,j) for i, j in product(range(width), range(height))]"
   ]
  },
  {
   "cell_type": "markdown",
   "id": "a89fc0ed-bd77-47ce-aead-eef6f24a8a89",
   "metadata": {},
   "source": [
    "## Setting up Operators"
   ]
  },
  {
   "cell_type": "markdown",
   "id": "792df13a-80c3-4389-b261-4182b6210b00",
   "metadata": {},
   "source": [
    "For each type of group operator (X and Z) we will have two different lists, the \"sites\" and the \"ops\".  The \"sites\" list will have virtual sites off the edge of the lattice that match up with locations on the other side.  For example, the site `(6, 1)` denotes the real location `(0,1)`.  We will use the `zgroup_sites` and `xgroup_sites` lists to help us view the measurements of the corresponding operators."
   ]
  },
  {
   "cell_type": "code",
   "execution_count": 3,
   "id": "8618798a-6cfb-4be3-82e9-7727d939c8cb",
   "metadata": {},
   "outputs": [],
   "source": [
    "mod = lambda s: (s[0] % width, s[1] % height)\n",
    "\n",
    "zgroup_sites = []\n",
    "zgroup_ops = []\n",
    "for x, y in product(range(3), range(4)):\n",
    "    \n",
    "    x_shift = 2*x + (y+1)%2\n",
    "\n",
    "    sites = [(x_shift, y), (x_shift+1, y), (x_shift+1, y+1), (x_shift, y+1)]\n",
    "    \n",
    "    op = qml.operation.Tensor(*(qml.PauliZ(wires=[mod(s)]) for s in sites))\n",
    "    \n",
    "    zgroup_sites.append(sites)\n",
    "    zgroup_ops.append(op)"
   ]
  },
  {
   "cell_type": "markdown",
   "id": "1c8c217f-1e4f-4375-8d37-71dd303f14a6",
   "metadata": {},
   "source": [
    "We will later use the X Group operator sites to prepare the ground state, so the order here is important.  One group needs a slightly different order in due to interference with the periodic boundary condition."
   ]
  },
  {
   "cell_type": "code",
   "execution_count": 4,
   "id": "b27f5cca-b752-4280-bf23-290c50388700",
   "metadata": {},
   "outputs": [],
   "source": [
    "xgroup_sites = []\n",
    "xgroup_ops = []\n",
    "for x, y in product(range(3), range(4)):\n",
    "    x_shift = 2*x + y%2\n",
    "    \n",
    "    sites = [(x_shift+1, y+1), (x_shift, y+1), (x_shift, y), (x_shift+1, y)]\n",
    "    \n",
    "    if x == 2 and y == 1: # change order for state prep later\n",
    "        sites = sites[1:]+sites[0:1]\n",
    "\n",
    "    op = qml.operation.Tensor(*(qml.PauliX(wires=[mod(s)]) for s in sites))\n",
    "    \n",
    "    xgroup_sites.append(sites)\n",
    "    xgroup_ops.append(op)"
   ]
  },
  {
   "cell_type": "code",
   "execution_count": 5,
   "id": "d5ffd58f-ba72-42e7-9149-c67eb96931ea",
   "metadata": {},
   "outputs": [
    {
     "data": {
      "image/png": "[encoded data removed]",
      "text/plain": [
       "<Figure size 432x288 with 1 Axes>"
      ]
     },
     "metadata": {
      "needs_background": "light"
     },
     "output_type": "display_data"
    }
   ],
   "source": [
    "def misc_plot_formatting(fig, ax):\n",
    "    plt.hlines([-0.5, height-0.5],-0.5, width-0.5, linestyle=\"dotted\", color=\"black\")\n",
    "    plt.vlines([-0.5, width-0.5], -0.5, height-0.5, linestyle='dashed', color=\"black\")\n",
    "    plt.xticks(range(width+1), [str(i % width) for i in range(width+1)])\n",
    "    plt.yticks(range(height+1), [str(i % height) for i in range(height+1)])\n",
    "\n",
    "    for direction in ['top', 'right', 'bottom', 'left']:\n",
    "        ax.spines[direction].set_visible(False)\n",
    "        \n",
    "    return fig, ax\n",
    "\n",
    "fig, ax = plt.subplots()\n",
    "fig, ax = misc_plot_formatting(fig, ax)\n",
    "\n",
    "for group in xgroup_sites:\n",
    "    x_patch = ax.add_patch(Polygon(group, color=\"lavender\"))\n",
    "\n",
    "for group in zgroup_sites:\n",
    "    z_patch = ax.add_patch(Polygon(group, color=\"mistyrose\"))\n",
    "    \n",
    "plt_sites = ax.scatter(*zip(*all_sites))\n",
    "\n",
    "plt.legend([x_patch, z_patch, plt_sites], ['XGroup', 'ZGroup', 'Site'], loc='upper left')\n",
    "\n",
    "plt.show()"
   ]
  },
  {
   "cell_type": "markdown",
   "id": "b5288b20-6c05-46e9-9ff6-573f17e58c76",
   "metadata": {},
   "source": [
    "# Preparing the ground state"
   ]
  },
  {
   "cell_type": "markdown",
   "id": "801c0153-bea3-457b-bac0-f958204b4cf0",
   "metadata": {},
   "source": [
    "A toric ground state is:\n",
    "\n",
    "$$\n",
    "| G \\rangle =  \\prod_{p} \\frac{\\mathbb{I} + P_p}{\\sqrt{2}} |00\\dots 0\\rangle = \\prod_{p} U_p |00\\dots 0 \\rangle\n",
    "$$\n",
    "\n",
    "where $p$ (plaquette) denotes the X Groups.  We won't prove that is the ground state here, we are merely going to use it as is.\n",
    "\n",
    "Once we know how the operator that applies on a single group, we can tile that decomposition. To better understand this formula, let's write it concretely for a single group of four qubits:\n",
    "\n",
    "$$\n",
    "\\frac{1}{\\sqrt{2}}\\left(\\mathbb{I} + X_1 X_2 X_3 X_4 \\right) |0000 \\rangle\n",
    "= \\frac{1}{\\sqrt{2}} \\left( |0000\\rangle + |1111\\rangle \\right)\n",
    "$$\n",
    "\n",
    "This generalized GHZ state can be prepared with a Hadamard and 3 CNOT gates:"
   ]
  },
  {
   "cell_type": "code",
   "execution_count": 6,
   "id": "9923d76c-d269-4172-af23-b54b19694525",
   "metadata": {},
   "outputs": [
    {
     "name": "stdout",
     "output_type": "stream",
     "text": [
      "Superposition state:  [0.70710678+0.j 0.        +0.j 0.        +0.j 0.        +0.j\n",
      " 0.        +0.j 0.        +0.j 0.        +0.j 0.        +0.j\n",
      " 0.        +0.j 0.        +0.j 0.        +0.j 0.        +0.j\n",
      " 0.        +0.j 0.        +0.j 0.        +0.j 0.70710678+0.j]\n"
     ]
    },
    {
     "data": {
      "image/png": "[encoded data removed]",
      "text/plain": [
       "<Figure size 504x360 with 1 Axes>"
      ]
     },
     "metadata": {},
     "output_type": "display_data"
    }
   ],
   "source": [
    "@qml.qnode(qml.device('lightning.qubit', wires=4))\n",
    "def generalized_ghz():\n",
    "    qml.Hadamard(0)\n",
    "    for target in (1,2,3):\n",
    "        qml.CNOT(wires=(0,target))\n",
    "    return qml.state()\n",
    "    \n",
    "print(\"Superposition state: \", generalized_ghz())\n",
    "\n",
    "qml.drawer.use_style('black_white')\n",
    "fig, ax = qml.draw_mpl(generalized_ghz)()\n",
    "plt.show()"
   ]
  },
  {
   "cell_type": "markdown",
   "id": "1b8be1c1-c4b8-4aa7-bde6-b584c63fa1b0",
   "metadata": {},
   "source": [
    "This decomposition for $U_p$ holds only when the initial Hadamard qubit begins in the $|0\\rangle$ state, so we need to be careful in choosing which qubit to apply the initial Hadamard gate to.  This is the reason why we rotated the order for a single X Group on the right border earlier.\n",
    "\n",
    "We will also not need to prepare the final X Group that contains the four edges of the lattice, as it will already be prepared by preparation of the surrounding groups."
   ]
  },
  {
   "cell_type": "markdown",
   "id": "d6f39f1c-4888-40f0-8447-a68bcec335d5",
   "metadata": {},
   "source": [
    "The paper \"Realizing topologically ordered states on a quantum processor\" that inspired this demo used a special order of operations to prepare the ground state to accomdate the constraints of the Sycamore processor. We don't have the same contraints on a simulator, so we chose a more straightforward ordering."
   ]
  },
  {
   "cell_type": "markdown",
   "id": "b1fa30f4-26f8-4ee0-aea7-046716d0aabf",
   "metadata": {},
   "source": [
    "Now let's actually put these together into a circuit!"
   ]
  },
  {
   "cell_type": "code",
   "execution_count": 7,
   "id": "ff2c0c61-9a6c-49f5-b0d4-44b5649aee2b",
   "metadata": {},
   "outputs": [],
   "source": [
    "dev = qml.device('lightning.qubit', wires= all_sites)\n",
    "\n",
    "def state_prep():\n",
    "    for op in xgroup_ops[0:-1]:\n",
    "        qml.Hadamard(op.wires[0:1])\n",
    "        for w in op.wires[1:]:\n",
    "            qml.CNOT(wires=[op.wires[0], w])\n",
    "\n",
    "@qml.qnode(dev, diff_method=None)\n",
    "def circuit(observables):\n",
    "    state_prep()\n",
    "    return [qml.expval(op) for op in observables]"
   ]
  },
  {
   "cell_type": "markdown",
   "id": "85fe3aef-7085-48aa-be1d-e170e2ec7d55",
   "metadata": {},
   "source": [
    "The value for each group operator that minimizes it's contribution is +1.\n",
    "\n",
    "All group operators commute (yes, even the different types) so the ground state minimizes all group operators into the +1 state.\n",
    "\n",
    "$$\n",
    "S_s |G \\rangle = (+1) |G\\rangle \\qquad P_p | G \\rangle = (+1) | G \\rangle\n",
    "$$"
   ]
  },
  {
   "cell_type": "code",
   "execution_count": 8,
   "id": "e08a7293-831b-4da8-9596-f784fc0862c8",
   "metadata": {},
   "outputs": [
    {
     "name": "stdout",
     "output_type": "stream",
     "text": [
      "X Group expectation values [1. 1. 1. 1. 1. 1. 1. 1. 1. 1. 1. 1.]\n",
      "Z Group expectation values [1. 1. 1. 1. 1. 1. 1. 1. 1. 1. 1. 1.]\n",
      "Total energy:  -23.999999999999996\n"
     ]
    }
   ],
   "source": [
    "xgroup_expvals = circuit(xgroup_ops)\n",
    "zgroup_expvals = circuit(xgroup_ops)\n",
    "E0 = -sum(xgroup_expvals) - sum(zgroup_expvals)\n",
    "\n",
    "print(\"X Group expectation values\", xgroup_expvals)\n",
    "print(\"Z Group expectation values\", zgroup_expvals)\n",
    "print(\"Total energy: \", E0)"
   ]
  },
  {
   "cell_type": "markdown",
   "id": "740c9b32-280c-4f0d-8e3c-8a600c11d1fe",
   "metadata": {},
   "source": [
    "## Excitations\n",
    "\n",
    "What happens we apply a Pauli operator to the ground state? Let's start by considering what happens to an Z Group eigenvalue when we apply a X operator on one of the sites that it contains:\n",
    "\n",
    "$$\n",
    "| \\phi \\rangle = X_i | G \\rangle.\n",
    "$$\n",
    "\n",
    "Since the Z Group operator contains a Z operator at the same location as the X operator, the two components anti-commute:\n",
    "\n",
    "$$\n",
    "S_s X_i = \\left( Z_i Z_a Z_b Z_c \\right) X_i = - X_i S_s\n",
    "$$\n",
    "\n",
    "Using this relation, we can determine the eigenvalue of the group operator on the pertubed state.\n",
    "\n",
    "$$\n",
    "S_s |\\phi\\rangle = S_s X_i |G\\rangle = - X_i S_s |G\\rangle = - X_i |G\\rangle = - |\\phi\\rangle\n",
    "$$\n",
    "\n",
    "This analysis repeats for the effect of a Z operator on the X Group eigenvalue.\n",
    "\n",
    "Since each site borders on two X Groups and two Z Groups, applying a single pertubation will flip the signs of two group operators.\n",
    "\n",
    "Each site with a flipped eigenvalue is considered an excitation. In the literature, you will often see a Z Group excitation $\\langle S_s \\rangle = -1$ called an \"electric\" <i>e</i> excitation and an X Group excitation $\\langle P_p \\rangle = -1$ called a \"magnetic\" <i>m</i> excitation.  You may also see inclusion of an identity $\\mathbb{I}$ particle for the ground state and the combination particle $\\Psi$ consisting of a single <i>e</i> and a single <i>m</i> excitation. \n",
    "\n",
    "Let's create a QNode where we can apply these pertubations:"
   ]
  },
  {
   "cell_type": "code",
   "execution_count": 9,
   "id": "81a084d8-d53b-4eea-8317-ff268b7b2cfc",
   "metadata": {},
   "outputs": [],
   "source": [
    "@qml.qnode(dev, diff_method=None)\n",
    "def excitations(observables, x_sites, z_sites):\n",
    "    state_prep()\n",
    "    \n",
    "    for s in x_sites:\n",
    "        qml.PauliX([s])\n",
    "        \n",
    "    for s in z_sites:\n",
    "        qml.PauliZ([s])\n",
    "\n",
    "    return [qml.expval(op) for op in observables]"
   ]
  },
  {
   "cell_type": "markdown",
   "id": "de48c21f-d901-4b1e-8f26-b366f337313b",
   "metadata": {},
   "source": [
    "Now what are the expectation values when we apply a single X operation? We see we have indeed flipped the eigenvalues for two groups."
   ]
  },
  {
   "cell_type": "code",
   "execution_count": 10,
   "id": "ae575cfa-a6d0-495c-8cd4-7c7d0f63d534",
   "metadata": {},
   "outputs": [
    {
     "name": "stdout",
     "output_type": "stream",
     "text": [
      "XGroup:  [1. 1. 1. 1. 1. 1. 1. 1. 1. 1. 1. 1.]\n",
      "ZGroup:  [ 1. -1. -1.  1.  1.  1.  1.  1.  1.  1.  1.  1.]\n"
     ]
    }
   ],
   "source": [
    "single_x = [(1,2)]\n",
    "\n",
    "x_expvals = excitations(xgroup_ops, single_x, [])\n",
    "z_expvals = excitations(zgroup_ops, single_x, [])\n",
    "\n",
    "print(\"XGroup: \", x_expvals)\n",
    "print(\"ZGroup: \", z_expvals)"
   ]
  },
  {
   "cell_type": "markdown",
   "id": "5c23b6bb-f71d-44c9-968d-5da288ac36e6",
   "metadata": {},
   "source": [
    "Instead of interpreting the state via the eigenvalues of the operators, we can view the state as occupation numbers of the corresponding quasiparticles. An group with an eigenvalue of $+1$ is in the ground state and thus has an occupation number of $0$.  If the eigenvalue is $-1$, then a quasiparticle exists in that location."
   ]
  },
  {
   "cell_type": "code",
   "execution_count": 11,
   "id": "18952e4a-86b0-42b9-9c34-0f5e8f11f491",
   "metadata": {},
   "outputs": [
    {
     "name": "stdout",
     "output_type": "stream",
     "text": [
      "Total energy:  -19.999999999999996\n",
      "Energy above the ground state:  4.0\n",
      "X Group occupation numbers:  [0. 0. 0. 0. 0. 0. 0. 0. 0. 0. 0. 0.]\n",
      "Y Group occupation numbers:  [0. 1. 1. 0. 0. 0. 0. 0. 0. 0. 0. 0.]\n"
     ]
    }
   ],
   "source": [
    "occupation_numbers = lambda expvals: 0.5*(1-expvals)\n",
    "\n",
    "def print_info(x_expvals, z_expvals):\n",
    "    E = -sum(x_expvals) - sum(z_expvals)\n",
    "    \n",
    "    print(\"Total energy: \", E)\n",
    "    print(\"Energy above the ground state: \", E - E0)\n",
    "    print(\"X Group occupation numbers: \", occupation_numbers(x_expvals))\n",
    "    print(\"Y Group occupation numbers: \", occupation_numbers(z_expvals))\n",
    "    \n",
    "print_info(x_expvals, z_expvals)"
   ]
  },
  {
   "cell_type": "markdown",
   "id": "31363c1b-83e5-45b5-b678-e6d2df774f54",
   "metadata": {},
   "source": [
    "Since we are going to plot the same thing many times, we can group the code into a function to easily call later."
   ]
  },
  {
   "cell_type": "code",
   "execution_count": 12,
   "id": "32ac5242-4295-4e23-9d61-701f5089062a",
   "metadata": {},
   "outputs": [],
   "source": [
    "def excitation_plot(x_excite, z_excite):\n",
    "    x_color = lambda expval: \"navy\" if expval < 0 else \"lavender\"\n",
    "    z_color = lambda expval: \"maroon\" if expval < 0 else \"mistyrose\"\n",
    "    \n",
    "    fig, ax = plt.subplots()\n",
    "    fig, ax = misc_plot_formatting(fig, ax)\n",
    "    \n",
    "    for expval, sites in zip(x_excite, xgroup_sites):\n",
    "        ax.add_patch(Polygon(sites, color=x_color(expval) ))\n",
    "\n",
    "    for expval, sites in zip(z_excite, zgroup_sites):\n",
    "        ax.add_patch(Polygon(sites, color=z_color(expval) ))\n",
    "\n",
    "    handles = [ Patch(color=\"navy\", label=\"X Group -1\"),\n",
    "        Patch(color=\"lavender\", label=\"X Group +1\"),\n",
    "        Patch(color=\"maroon\", label=\"Z Group -1\"),\n",
    "        Patch(color=\"mistyrose\", label=\"Z Group +1\"),\n",
    "        Patch(color=\"navy\", label=\"Z op\"),\n",
    "        Patch(color=\"maroon\", label=\"X op\"),]\n",
    "    \n",
    "    plt.legend(handles=handles, ncol=3, loc='lower left')\n",
    "    \n",
    "    return fig, ax"
   ]
  },
  {
   "cell_type": "code",
   "execution_count": 13,
   "id": "c463e317-afcb-4b5c-aed8-7a84dae0a9e8",
   "metadata": {},
   "outputs": [
    {
     "data": {
      "text/plain": [
       "<matplotlib.collections.PathCollection at 0x15eb3edc0>"
      ]
     },
     "execution_count": 13,
     "metadata": {},
     "output_type": "execute_result"
    },
    {
     "data": {
      "image/png": "[encoded data removed]",
      "text/plain": [
       "<Figure size 432x288 with 1 Axes>"
      ]
     },
     "metadata": {
      "needs_background": "light"
     },
     "output_type": "display_data"
    }
   ],
   "source": [
    "fig, ax = excitation_plot(x_expvals, z_expvals) \n",
    "\n",
    "ax.scatter(*zip(*single_x), color=\"maroon\", s=100)"
   ]
  },
  {
   "cell_type": "markdown",
   "id": "e947688e-0655-4734-a438-ece927f0993f",
   "metadata": {},
   "source": [
    "Now what if we apply a Z operation instead at the same site? We instead get two X Group excitations."
   ]
  },
  {
   "cell_type": "code",
   "execution_count": 14,
   "id": "e0ef9619-6fbe-4844-985d-92b85d39b34c",
   "metadata": {},
   "outputs": [
    {
     "name": "stdout",
     "output_type": "stream",
     "text": [
      "Total energy:  -19.999999999999996\n",
      "Energy above the ground state:  4.0\n",
      "X Group occupation numbers:  [0. 1. 1. 0. 0. 0. 0. 0. 0. 0. 0. 0.]\n",
      "Y Group occupation numbers:  [0. 0. 0. 0. 0. 0. 0. 0. 0. 0. 0. 0.]\n"
     ]
    },
    {
     "data": {
      "text/plain": [
       "<matplotlib.collections.PathCollection at 0x15ec96f10>"
      ]
     },
     "execution_count": 14,
     "metadata": {},
     "output_type": "execute_result"
    },
    {
     "data": {
      "image/png": "[encoded data removed]",
      "text/plain": [
       "<Figure size 432x288 with 1 Axes>"
      ]
     },
     "metadata": {
      "needs_background": "light"
     },
     "output_type": "display_data"
    }
   ],
   "source": [
    "single_z = [(1,2)]\n",
    "\n",
    "x_expvals = excitations(xgroup_ops, [], single_z)\n",
    "z_expvals = excitations(zgroup_ops, [], single_z)\n",
    "print_info(x_expvals, z_expvals)\n",
    "\n",
    "fig, ax = excitation_plot(x_expvals, z_expvals) \n",
    "\n",
    "ax.scatter(*zip(*single_z), color=\"navy\", s=100)"
   ]
  },
  {
   "cell_type": "markdown",
   "id": "a404135d-febb-422a-bb3c-a03d286fc832",
   "metadata": {},
   "source": [
    "What happens if we apply the same pertubation twice at the same location?\n",
    "\n",
    "We regain the ground state. The excitations of the toric code are <b>Majorana</b> particles, particles who are their own anti-particles.  While postulated to exist in standard particle physics, majorana particles have only been experimentally seen as quasiparticle excitations in materials.\n",
    "\n",
    "We can think of the second operation as creating another set of excitations at the same location that annihilate the existing particles."
   ]
  },
  {
   "cell_type": "code",
   "execution_count": 15,
   "id": "d21ce969-fecf-4aa5-b622-264e437f3a4c",
   "metadata": {},
   "outputs": [
    {
     "name": "stdout",
     "output_type": "stream",
     "text": [
      "Total energy:  -23.999999999999996\n",
      "Energy above the ground state:  0.0\n",
      "X Group occupation numbers:  [0. 0. 0. 0. 0. 0. 0. 0. 0. 0. 0. 0.]\n",
      "Y Group occupation numbers:  [0. 0. 0. 0. 0. 0. 0. 0. 0. 0. 0. 0.]\n"
     ]
    }
   ],
   "source": [
    "single_z = [(1,2)]\n",
    "\n",
    "x_expvals = excitations(xgroup_ops, [], single_z+single_z)\n",
    "z_expvals = excitations(zgroup_ops, [], single_z+single_z)\n",
    "print_info(x_expvals, z_expvals)"
   ]
  },
  {
   "cell_type": "markdown",
   "id": "e143ffe0-c55f-40ca-863f-425153a02ead",
   "metadata": {},
   "source": [
    "## Moving Excitations and String Operators\n",
    "\n",
    "What if we create a second set of particles such that one of the new particles overlaps with an existing particle? Then one old particle and one new particle annihilate each other.  We are left we one of the old particles and one new particle, so we still have two particles in total.\n",
    "\n",
    "We can think about the situation as creating a new pair of particles where two particles cancel each other out, but we can also view the application of a new pertubation as <b>moving</b> one of the excitations.  Let's see what that looks like in code:"
   ]
  },
  {
   "cell_type": "code",
   "execution_count": 16,
   "id": "264e8858-a6ef-428d-bb7e-bbc4b02350b7",
   "metadata": {},
   "outputs": [
    {
     "name": "stdout",
     "output_type": "stream",
     "text": [
      "Total energy:  -19.999999999999996\n",
      "Energy above the ground state:  4.0\n",
      "X Group occupation numbers:  [0. 0. 1. 0. 0. 0. 1. 0. 0. 0. 0. 0.]\n",
      "Y Group occupation numbers:  [0. 0. 0. 0. 0. 0. 0. 0. 0. 0. 0. 0.]\n"
     ]
    },
    {
     "data": {
      "image/png": "[encoded data removed]",
      "text/plain": [
       "<Figure size 432x288 with 1 Axes>"
      ]
     },
     "metadata": {
      "needs_background": "light"
     },
     "output_type": "display_data"
    }
   ],
   "source": [
    "two_z = [(1,2), (2,2)]\n",
    "\n",
    "x_expvals = excitations(xgroup_ops, [], two_z)\n",
    "z_expvals = excitations(zgroup_ops, [], two_z)\n",
    "print_info(x_expvals, z_expvals)\n",
    "\n",
    "fig, ax = excitation_plot(x_expvals, z_expvals) \n",
    "\n",
    "ax.plot(*zip(*two_z), color=\"navy\", linewidth=10)\n",
    "\n",
    "plt.show()"
   ]
  },
  {
   "cell_type": "markdown",
   "id": "db33607e-6992-4241-b43b-0117c5e47027",
   "metadata": {},
   "source": [
    "In that example we just moved an excitation a little.  How about we try moving it even further?"
   ]
  },
  {
   "cell_type": "code",
   "execution_count": 17,
   "id": "c21e54f3-8113-4a16-b928-279361bed16c",
   "metadata": {},
   "outputs": [
    {
     "name": "stdout",
     "output_type": "stream",
     "text": [
      "Total energy:  -19.999999999999996\n",
      "Energy above the ground state:  4.0\n",
      "X Group occupation numbers:  [0. 0. 1. 0. 0. 0. 0. 0. 1. 0. 0. 0.]\n",
      "Y Group occupation numbers:  [0. 0. 0. 0. 0. 0. 0. 0. 0. 0. 0. 0.]\n"
     ]
    },
    {
     "data": {
      "image/png": "[encoded data removed]",
      "text/plain": [
       "<Figure size 432x288 with 1 Axes>"
      ]
     },
     "metadata": {
      "needs_background": "light"
     },
     "output_type": "display_data"
    }
   ],
   "source": [
    "long_string = [(1,2), (2,2), (3,2), (4,1)]\n",
    "\n",
    "x_expvals = excitations(xgroup_ops, [], long_string)\n",
    "z_expvals = excitations(zgroup_ops, [], long_string)\n",
    "print_info(x_expvals, z_expvals)\n",
    "\n",
    "fig, ax = excitation_plot(x_expvals, z_expvals) \n",
    "\n",
    "ax.plot(*zip(*long_string), color=\"navy\", linewidth=10)\n",
    "\n",
    "plt.show()"
   ]
  },
  {
   "cell_type": "markdown",
   "id": "9d18793d-fa82-429c-955b-45cf9caf6ef5",
   "metadata": {},
   "source": [
    "We end up with these strings of sites that connect pairs of particles and move them around.\n",
    "\n",
    "What if we decided to move the particle to it's final location via a different route?\n",
    "\n",
    "The below string gets us to the exact same final state. The toric code only cares about the <b>homotopy</b> of the path used to create the excitations. As long as the endpoints are the same and the path doesn't wrap around the torus or other particles, the specifics don't matter."
   ]
  },
  {
   "cell_type": "code",
   "execution_count": 18,
   "id": "931747d7-cece-43d0-9237-c837bb40e156",
   "metadata": {},
   "outputs": [
    {
     "name": "stdout",
     "output_type": "stream",
     "text": [
      "Total energy:  -19.999999999999996\n",
      "Energy above the ground state:  4.0\n",
      "X Group occupation numbers:  [0. 0. 1. 0. 0. 0. 0. 0. 1. 0. 0. 0.]\n",
      "Y Group occupation numbers:  [0. 0. 0. 0. 0. 0. 0. 0. 0. 0. 0. 0.]\n"
     ]
    },
    {
     "data": {
      "image/png": "[encoded data removed]",
      "text/plain": [
       "<Figure size 432x288 with 1 Axes>"
      ]
     },
     "metadata": {
      "needs_background": "light"
     },
     "output_type": "display_data"
    }
   ],
   "source": [
    "equivalent_string = [(1,2), (2,1), (3,1), (4,1)]\n",
    "\n",
    "x_expvals = excitations(xgroup_ops, [], equivalent_string)\n",
    "z_expvals = excitations(zgroup_ops, [], equivalent_string)\n",
    "print_info(x_expvals, z_expvals)\n",
    "\n",
    "fig, ax = excitation_plot(x_expvals, z_expvals) \n",
    "\n",
    "ax.plot(*zip(*equivalent_string), color=\"navy\", linewidth=10)\n",
    "\n",
    "plt.show()"
   ]
  },
  {
   "cell_type": "markdown",
   "id": "63911d1f-b956-49ab-a5a7-ec6eda4c1e7d",
   "metadata": {
    "tags": []
   },
   "source": [
    "# Looping the torus\n",
    "\n",
    "We can also have a loop of operations that doesn't create any new excitations.  The loop creates a pair, moves one around in a circle, and then annihilates the two particles again."
   ]
  },
  {
   "cell_type": "code",
   "execution_count": 19,
   "id": "e3f3b32a-ce5d-400e-8fa2-130867d20988",
   "metadata": {},
   "outputs": [
    {
     "name": "stdout",
     "output_type": "stream",
     "text": [
      "Total energy:  -23.999999999999996\n",
      "Energy above the ground state:  0.0\n",
      "X Group occupation numbers:  [0. 0. 0. 0. 0. 0. 0. 0. 0. 0. 0. 0.]\n",
      "Y Group occupation numbers:  [0. 0. 0. 0. 0. 0. 0. 0. 0. 0. 0. 0.]\n"
     ]
    },
    {
     "data": {
      "text/plain": [
       "[<matplotlib.lines.Line2D at 0x15f30deb0>]"
      ]
     },
     "execution_count": 19,
     "metadata": {},
     "output_type": "execute_result"
    },
    {
     "data": {
      "image/png": "[encoded data removed]",
      "text/plain": [
       "<Figure size 432x288 with 1 Axes>"
      ]
     },
     "metadata": {
      "needs_background": "light"
     },
     "output_type": "display_data"
    }
   ],
   "source": [
    "contractable_loop = [(1,1), (2,1), (3,1), (4,1), (4,2), (3,3), (2,3), (1,2)]\n",
    "\n",
    "x_expvals = excitations(xgroup_ops, contractable_loop, [])\n",
    "z_expvals = excitations(zgroup_ops, contractable_loop, [])\n",
    "print_info(x_expvals, z_expvals)\n",
    "\n",
    "fig, ax = excitation_plot(x_expvals, z_expvals) \n",
    "\n",
    "ax.plot(*zip(*contractable_loop), color=\"maroon\", linewidth=10)"
   ]
  },
  {
   "cell_type": "markdown",
   "id": "60434fdb-afc1-453c-ba83-0a6814d122a9",
   "metadata": {},
   "source": [
    "The loop doesn't effect the positions of any excitations, but does it effect the state at all?\n",
    "\n",
    "To answer that question, we will look at the probabilities instead of the expectation values of tensor observables."
   ]
  },
  {
   "cell_type": "code",
   "execution_count": 20,
   "id": "647ec0ba-f641-477e-ba6b-7d23453ad33a",
   "metadata": {},
   "outputs": [],
   "source": [
    "@qml.qnode(dev, diff_method=None)\n",
    "def probs(x_sites, z_sites):\n",
    "    state_prep()\n",
    "    \n",
    "    for s in x_sites:\n",
    "        qml.PauliX([s])\n",
    "        \n",
    "    for s in z_sites:\n",
    "        qml.PauliZ([s])\n",
    "\n",
    "    return qml.probs(wires=all_sites)"
   ]
  },
  {
   "cell_type": "code",
   "execution_count": 21,
   "id": "5170164a-8891-45b9-972c-4ae6a8949f2f",
   "metadata": {},
   "outputs": [
    {
     "name": "stdout",
     "output_type": "stream",
     "text": [
      "Are the probabilities equal?  True\n"
     ]
    }
   ],
   "source": [
    "null_probs = probs([], [])\n",
    "contractable_probs = probs(contractable_loop, [])\n",
    "\n",
    "print(\"Are the probabilities equal? \", np.allclose(null_probs, contractable_probs))"
   ]
  },
  {
   "cell_type": "markdown",
   "id": "367c794b-44b7-4dfb-ad06-bea1a908442e",
   "metadata": {},
   "source": [
    "The toric code only cares about the <b>homotopy</b> of the paths. All paths we can smoothly deform into each other will give the same result.  The \"contractable\" loop can be smoothly deformed away to nothing, so the state with the contractable loop is the same state as one with no loop."
   ]
  },
  {
   "cell_type": "markdown",
   "id": "2b754663-5bfe-4264-839d-4f0c46ddec7a",
   "metadata": {},
   "source": [
    "On the torus, we have three types of unique paths that can't be deformed away to nothing:\n",
    "\n",
    "* A horizontal loop around the boundaries\n",
    "* A vertical loop around the boundaries\n",
    "* A loop around both the horiztonal and vertical boundaries\n",
    "\n",
    "All of these do not create any net excitations, so the wavefunction remains in the ground state."
   ]
  },
  {
   "cell_type": "code",
   "execution_count": 22,
   "id": "7b04f87b-b0fb-4766-862f-1052d9292497",
   "metadata": {},
   "outputs": [
    {
     "data": {
      "text/plain": [
       "[<matplotlib.lines.Line2D at 0x15f37e3d0>]"
      ]
     },
     "execution_count": 22,
     "metadata": {},
     "output_type": "execute_result"
    },
    {
     "data": {
      "image/png": "[encoded data removed]",
      "text/plain": [
       "<Figure size 432x288 with 1 Axes>"
      ]
     },
     "metadata": {
      "needs_background": "light"
     },
     "output_type": "display_data"
    }
   ],
   "source": [
    "horizontal_loop = [(i, 1) for i in range(width)]\n",
    "vertical_loop = [(1,i) for i in range(height)]\n",
    "\n",
    "fig, ax = excitation_plot(excitations(xgroup_ops, horizontal_loop+vertical_loop, []), excitations(zgroup_ops, horizontal_loop, [])) \n",
    "\n",
    "ax.plot(*zip(*horizontal_loop), color=\"maroon\", linewidth=10)\n",
    "ax.plot(*zip(*vertical_loop), color=\"maroon\", linewidth=10)"
   ]
  },
  {
   "cell_type": "markdown",
   "id": "d12b1720-3650-4c97-9d31-786b64872875",
   "metadata": {},
   "source": [
    "We can compute the probabilities for each of these four types of loops:"
   ]
  },
  {
   "cell_type": "code",
   "execution_count": 23,
   "id": "2b6810e4-839c-48c9-ac03-53f034116a1b",
   "metadata": {},
   "outputs": [],
   "source": [
    "null_probs = probs([], [])\n",
    "horizontal_probs = probs(horizontal_loop, [])\n",
    "vertical_probs = probs(vertical_loop, [])\n",
    "combo_probs = probs(horizontal_loop+vertical_loop, [])"
   ]
  },
  {
   "cell_type": "markdown",
   "id": "ba18dcd6-e3d4-4087-8cd7-ae0a618a4d9c",
   "metadata": {},
   "source": [
    "While both X and Z operations can change the group operator eigenvalues and create quasiparticles, only X operators can change the probability distribution.  Applying a Z operator would only rotate the phase of the state and not change any amplitudes. Hence we only use loops of X operators in this section. I encourage you to try this analysis with loops of Z operators to confirm that they do not change the probability distribution.\n",
    "\n",
    "We can compare the original state and one with a horizontal loop to see if the probability distributions are different:"
   ]
  },
  {
   "cell_type": "code",
   "execution_count": 24,
   "id": "e606f13e-b38e-4882-adcc-70482d16ea9a",
   "metadata": {},
   "outputs": [
    {
     "name": "stdout",
     "output_type": "stream",
     "text": [
      "Are the probabilities equal?  False\n"
     ]
    }
   ],
   "source": [
    "print(\"Are the probabilities equal? \",qml.math.allclose(null_probs, horizontal_probs))"
   ]
  },
  {
   "cell_type": "markdown",
   "id": "ad055040-5bdd-4021-b5ad-041d4ad4ada4",
   "metadata": {},
   "source": [
    "Let's perform an extra sanity check on that to make sure the difference between the probabilties is significant."
   ]
  },
  {
   "cell_type": "code",
   "execution_count": 25,
   "id": "4db8afb2-151b-45e2-bf04-4f899cdf51ee",
   "metadata": {},
   "outputs": [
    {
     "name": "stdout",
     "output_type": "stream",
     "text": [
      "Maximum difference in probabilities:  0.00048828124999999913\n",
      "Maximum probability:  0.00048828124999999913\n"
     ]
    }
   ],
   "source": [
    "print(\"Maximum difference in probabilities: \", max(abs(null_probs-horizontal_probs)))\n",
    "print(\"Maximum probability: \", max(null_probs) )"
   ]
  },
  {
   "cell_type": "markdown",
   "id": "8e5d3c27-4252-426b-b9ca-8dce0a6eb919",
   "metadata": {},
   "source": [
    "So this isn't just random fluctuations and errors.\n",
    "\n",
    "That was just comparing a horizontal \"x\" loop with the initial ground state.  How about the other two types of loops? Let's loop over all combinations of two probability distributions to see if any match."
   ]
  },
  {
   "cell_type": "code",
   "execution_count": 26,
   "id": "fa3c22f3-94f2-4937-95b3-d8bed1c4aa94",
   "metadata": {},
   "outputs": [
    {
     "name": "stdout",
     "output_type": "stream",
     "text": [
      "\tnull\tx\ty\tcombo\n",
      "null \t 1\t0\t0\t0\n",
      "x \t 0\t1\t0\t0\n",
      "y \t 0\t0\t1\t0\n",
      "combo \t 0\t0\t0\t1\n"
     ]
    }
   ],
   "source": [
    "names = [\"null\", \"x\", \"y\", \"combo\"]\n",
    "all_probs = [null_probs, horizontal_probs, vertical_probs, combo_probs]\n",
    "\n",
    "print(\"\\t\"+\"\\t\".join(names))\n",
    "\n",
    "for name, probs1 in zip(names, all_probs):\n",
    "\n",
    "    comparisons = (format(np.allclose(probs1, probs2), \".0f\") for probs2 in all_probs)\n",
    "    print(name, \"\\t\", \"\\t\".join(comparisons) )"
   ]
  },
  {
   "cell_type": "markdown",
   "id": "e6334fc0-7e37-46d4-b656-1a211d4ae8f8",
   "metadata": {},
   "source": [
    "This shows us we have four distinct ground states.  More importantly, these ground states are separated from each other by long-range operations.  We have to perform a loop of operations across the entire lattice in order to switch ground state.\n",
    "\n",
    "This four way degeneracy is the source of the error correction in the toric code.  Instead 24 qubits, we work with 2 logical qubits (4 states) that are cleanly separated from each other by topological operations.\n",
    "\n",
    "Further exploration: What happens if you have two loops in the same direction?"
   ]
  },
  {
   "cell_type": "markdown",
   "id": "82ea0e12-aa78-472a-841b-a7eac2d6afc9",
   "metadata": {},
   "source": [
    "## Mutual Exchange Statistics\n",
    "\n",
    "The hole in the center of the donut isn't the only thing that prevents paths from smoothly deforming into each other. We don't yet know if we can deform paths past other particles.\n"
   ]
  },
  {
   "cell_type": "code",
   "execution_count": 27,
   "id": "d32f82b5-fac7-4e3b-be7e-e4734578ce9d",
   "metadata": {},
   "outputs": [
    {
     "data": {
      "image/png": "[encoded data removed]",
      "text/plain": [
       "<Figure size 432x288 with 1 Axes>"
      ]
     },
     "metadata": {
      "needs_background": "light"
     },
     "output_type": "display_data"
    }
   ],
   "source": [
    "prep1 = [(1, 1), (2,1)]\n",
    "prep2 = [(1, 3)]\n",
    "loop1 = [(2,3), (2,2), (2,1), (3,1), (3,2), (2,3)]\n",
    "\n",
    "x_expvals = excitations(xgroup_ops, prep1, prep2+loop1)\n",
    "z_expvals = excitations(zgroup_ops, prep1, prep2+loop1)\n",
    "\n",
    "fig, ax = excitation_plot(x_expvals, z_expvals)\n",
    "\n",
    "ax.plot(*zip(*prep1), color=\"maroon\", linewidth=10)  \n",
    "ax.plot(*zip(*(prep2+loop1)), color=\"navy\", linewidth=10)\n",
    "\n",
    "plt.show()"
   ]
  },
  {
   "cell_type": "markdown",
   "id": "fa02c9b8-032a-48b4-a0ae-227cacbc48f5",
   "metadata": {},
   "source": [
    "We can also construct additional strings to prepare two Z Group excitations and move one around the other.  I encourage you to repeat this process for a X Group excitation moving around an X Group excitation, though we will not demonstrate it here."
   ]
  },
  {
   "cell_type": "code",
   "execution_count": 28,
   "id": "50a0c882-b684-4349-9702-1d67b9fa57f3",
   "metadata": {},
   "outputs": [
    {
     "data": {
      "image/png": "[encoded data removed]",
      "text/plain": [
       "<Figure size 432x288 with 1 Axes>"
      ]
     },
     "metadata": {
      "needs_background": "light"
     },
     "output_type": "display_data"
    }
   ],
   "source": [
    "prep3 = [(1,1), (2,1), (3,2)]\n",
    "prep4 = [(1,3)]\n",
    "\n",
    "loop2_display = [(2,2), (3,1), (4,1), (5,2), (5,3), (4,4), (3,4), (2,3)]\n",
    "loop2 = [mod(s) for s in loop2_display]\n",
    "\n",
    "x_expvals = excitations(xgroup_ops, prep3+prep4+loop2, [])\n",
    "z_expvals = excitations(zgroup_ops, prep3+prep4+loop2, [])\n",
    "\n",
    "fig, ax = excitation_plot(x_expvals, z_expvals)\n",
    "\n",
    "ax.plot(*zip(*prep3), color=\"maroon\", linewidth=10)  \n",
    "ax.plot(*zip(*prep4), color=\"maroon\", linewidth=10)  \n",
    "ax.plot(*zip(*loop2_display), color=\"maroon\", linewidth=10)  \n",
    "\n",
    "plt.show()"
   ]
  },
  {
   "cell_type": "markdown",
   "id": "8e0809ae-b581-41f3-84e7-00e778a7b4c5",
   "metadata": {},
   "source": [
    "## Hadamard test\n",
    "\n",
    "The Hadamard test extracts the real component of a unitary operation $\\text{Re}\\left(\\langle \\psi | U \\rangle \\right)$. \n",
    "\n",
    "1. The auxiliary qubit is prepared into a superposition with a Hadamard gate\n",
    "2. A controlled version of the operation is performed with the auxiliary qubit as the control\n",
    "3. Another Hadamard is applied to the auxiliary qubit\n",
    "4. The auxiliary qubit is measured\n",
    "\n",
    "<img src=\"./Hadamard_test.png\" />\n",
    "\n",
    "Since the unitary in this case is the application of a phase to a state, $e^{i \\phi}$, the real component is $\\cos (\\phi)$.\n",
    "\n",
    "Bonus challenge: Show that the Hadamard tests gives the correct expectation value using pen and paper."
   ]
  },
  {
   "cell_type": "code",
   "execution_count": 33,
   "id": "80fade80-7d8e-47a5-a27a-9d35e1318b92",
   "metadata": {},
   "outputs": [],
   "source": [
    "dev_aux = qml.device('lightning.qubit', wires=all_sites + [\"aux\"])\n",
    "\n",
    "def loop(x_loop, z_loop):\n",
    "    for s in x_loop:\n",
    "        qml.PauliX([s])\n",
    "    for s in z_loop:\n",
    "        qml.PauliZ([s])\n",
    "\n",
    "@qml.qnode(dev_aux, diff_method=None)\n",
    "def hadamard_test(x_prep, z_prep, x_loop, z_loop):\n",
    "    state_prep()\n",
    "    \n",
    "    for s in x_prep:\n",
    "        qml.PauliX([s])\n",
    "        \n",
    "    for s in z_prep:\n",
    "        qml.PauliZ([s])\n",
    "        \n",
    "    qml.Hadamard(\"aux\")\n",
    "    qml.ctrl(loop, control=\"aux\")(x_loop, z_loop)\n",
    "    qml.Hadamard(\"aux\")\n",
    "    return qml.expval(qml.PauliZ(\"aux\"))"
   ]
  },
  {
   "cell_type": "code",
   "execution_count": 35,
   "id": "c848b879-0a0e-4cf3-b972-96ef9ddf7848",
   "metadata": {},
   "outputs": [
    {
     "name": "stdout",
     "output_type": "stream",
     "text": [
      "Move x excitation around z excitation:  -0.9999999999999999\n"
     ]
    }
   ],
   "source": [
    "x_around_z = hadamard_test(prep1, prep2, [], loop1)\n",
    "print(\"Move x excitation around z excitation: \", x_around_z)"
   ]
  },
  {
   "cell_type": "markdown",
   "id": "7ee87a11-2eb7-4faa-99e9-c4240644dd3a",
   "metadata": {},
   "source": [
    "We just moved two different types of particles around each other and picked up a phase. As neither bosons nor fermions behave like this, this result demonstrates that the excitations of a toric code are <b>anyons</b>.\n",
    "\n",
    "We can also check that moving a z group excitation around another does not add a phase:"
   ]
  },
  {
   "cell_type": "code",
   "execution_count": 36,
   "id": "29222c6d-515a-4bc6-ac3c-dfec6e6eb4f5",
   "metadata": {},
   "outputs": [
    {
     "name": "stdout",
     "output_type": "stream",
     "text": [
      "Move z excitation around z excitation:  0.9999999999999999\n"
     ]
    }
   ],
   "source": [
    "z_around_z = hadamard_test(prep3+prep4, [], loop2, [])\n",
    "print(\"Move z excitation around z excitation: \", z_around_z)"
   ]
  },
  {
   "cell_type": "markdown",
   "id": "77efbd06-4664-4120-b8c1-4e5d9afaabfa",
   "metadata": {},
   "source": [
    "Further exploration: What is the phase for moving an x excitation around an x excitation? What are the statistics for a combination particle of both an x excitation and z excitation together? The emergent particle should behave like a standard fermion.\n",
    "\n",
    "In this demo, we have demonstrated:\n",
    "\n",
    "1. How to prepare the ground state of the toric code model on a lattice of qubits\n",
    "2. How to create and move excitations\n",
    "3. The ground state degeneracy of the model on a toric lattice, arising from homotopically distinct loops of operations\n",
    "4. The excitations are anyons due to non-trivial mutual statistics"
   ]
  }
 ],
 "metadata": {
  "kernelspec": {
   "display_name": "Python 3 (ipykernel)",
   "language": "python",
   "name": "python3"
  },
  "language_info": {
   "codemirror_mode": {
    "name": "ipython",
    "version": 3
   },
   "file_extension": ".py",
   "mimetype": "text/x-python",
   "name": "python",
   "nbconvert_exporter": "python",
   "pygments_lexer": "ipython3",
   "version": "3.8.9"
  }
 },
 "nbformat": 4,
 "nbformat_minor": 5
}
